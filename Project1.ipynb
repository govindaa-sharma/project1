{
  "nbformat": 4,
  "nbformat_minor": 0,
  "metadata": {
    "colab": {
      "provenance": [],
      "gpuType": "T4",
      "authorship_tag": "ABX9TyPFxBGvbDx4pVVHAneG+K9X",
      "include_colab_link": true
    },
    "kernelspec": {
      "name": "python3",
      "display_name": "Python 3"
    },
    "language_info": {
      "name": "python"
    },
    "accelerator": "GPU"
  },
  "cells": [
    {
      "cell_type": "markdown",
      "metadata": {
        "id": "view-in-github",
        "colab_type": "text"
      },
      "source": [
        "<a href=\"https://colab.research.google.com/github/govindaa-sharma/project1/blob/main/Project1.ipynb\" target=\"_parent\"><img src=\"https://colab.research.google.com/assets/colab-badge.svg\" alt=\"Open In Colab\"/></a>"
      ]
    },
    {
      "cell_type": "code",
      "execution_count": 1,
      "metadata": {
        "colab": {
          "base_uri": "https://localhost:8080/"
        },
        "id": "RsrO_klY47Qt",
        "outputId": "17b04e65-00cf-4d07-cdeb-bc01f6fff508"
      },
      "outputs": [
        {
          "output_type": "stream",
          "name": "stdout",
          "text": [
            "Attempting to uninstall conflicting packages...\n",
            "\u001b[33mWARNING: Skipping tensorflow-text as it is not installed.\u001b[0m\u001b[33m\n",
            "\u001b[0mConflicting packages uninstalled (if present).\n",
            "Installing the latest compatible transformers library...\n",
            "Transformers library installed.\n",
            "TensorFlow Version: 2.18.0\n",
            "GPU Available: []\n"
          ]
        }
      ],
      "source": [
        "print(\"Attempting to uninstall conflicting packages...\")\n",
        "!pip uninstall transformers -y -q\n",
        "!pip uninstall tensorflow-text -y -q # This might not be installed, but try just in case\n",
        "!pip uninstall tokenizers -y -q\n",
        "print(\"Conflicting packages uninstalled (if present).\")\n",
        "\n",
        "# 2. Reinstall the latest transformers for Keras 3.x compatibility\n",
        "# This should pull in the correct tokenizers version too.\n",
        "print(\"Installing the latest compatible transformers library...\")\n",
        "!pip install transformers --upgrade --quiet\n",
        "print(\"Transformers library installed.\")\n",
        "\n",
        "\n",
        "import numpy as np\n",
        "import pandas as pd\n",
        "import tensorflow as tf\n",
        "from tensorflow import keras\n",
        "from tensorflow.keras import layers\n",
        "import matplotlib.pyplot as plt\n",
        "import seaborn as sns\n",
        "\n",
        "import cv2\n",
        "from PIL import Image\n",
        "import os\n",
        "from io import BytesIO\n",
        "\n",
        "from transformers import AutoTokenizer, TFAutoModel\n",
        "from tensorflow.keras.preprocessing.sequence import pad_sequences\n",
        "\n",
        "from sklearn.ensemble import IsolationForest\n",
        "from sklearn.svm import OneClassSVM\n",
        "from sklearn.preprocessing import StandardScaler\n",
        "from sklearn.decomposition import PCA\n",
        "\n",
        "from tqdm.notebook import tqdm\n",
        "\n",
        "from sklearn.preprocessing import LabelEncoder\n",
        "from sklearn.model_selection import train_test_split\n",
        "\n",
        "print(f\"TensorFlow Version: {tf.__version__}\")\n",
        "\n",
        "print(f\"GPU Available: {tf.config.list_physical_devices('GPU')}\")\n",
        "\n",
        "\n",
        "tf.random.set_seed(42)\n",
        "np.random.seed(42)\n",
        "\n",
        "\n",
        "IMG_HEIGHT = 224\n",
        "IMG_WIDTH = 224"
      ]
    },
    {
      "cell_type": "code",
      "source": [
        "from google.colab import drive\n",
        "drive.mount('/content/drive')\n",
        "print('Google drive connected')"
      ],
      "metadata": {
        "id": "ya3BYt9SILxf",
        "colab": {
          "base_uri": "https://localhost:8080/"
        },
        "outputId": "6543fb27-d14e-4934-b9b3-ae931809d522"
      },
      "execution_count": 2,
      "outputs": [
        {
          "output_type": "stream",
          "name": "stdout",
          "text": [
            "Drive already mounted at /content/drive; to attempt to forcibly remount, call drive.mount(\"/content/drive\", force_remount=True).\n",
            "Google drive connected\n"
          ]
        }
      ]
    },
    {
      "cell_type": "code",
      "source": [
        "drive_zip_path = '/content/drive/MyDrive/fashion-product-images-small.zip'"
      ],
      "metadata": {
        "id": "eSJe-wRtgx3k"
      },
      "execution_count": 3,
      "outputs": []
    },
    {
      "cell_type": "code",
      "source": [
        "extract_dir = 'fashion_data'\n",
        "if not os.path.exists(extract_dir):\n",
        "    os.makedirs(extract_dir)"
      ],
      "metadata": {
        "id": "_MvTK_aDhrWK"
      },
      "execution_count": 5,
      "outputs": []
    },
    {
      "cell_type": "code",
      "source": [
        "print(f\"Unzipping '{drive_zip_path}' to '{extract_dir}'...\")\n",
        "!unzip -q -n {drive_zip_path} -d {extract_dir}\n",
        "print(\"Unzipping complete.\")"
      ],
      "metadata": {
        "colab": {
          "base_uri": "https://localhost:8080/"
        },
        "id": "WuWt2ThciSGS",
        "outputId": "304336b9-0740-47ae-aee9-acdc91b3be97"
      },
      "execution_count": 6,
      "outputs": [
        {
          "output_type": "stream",
          "name": "stdout",
          "text": [
            "Unzipping '/content/drive/MyDrive/fashion-product-images-small.zip' to 'fashion_data'...\n",
            "Unzipping complete.\n"
          ]
        }
      ]
    },
    {
      "cell_type": "code",
      "source": [
        "extract_dir = 'fashion_data'\n",
        "csv_path = os.path.join(extract_dir, 'styles.csv')"
      ],
      "metadata": {
        "id": "7_B_3tD2ihka"
      },
      "execution_count": 4,
      "outputs": []
    },
    {
      "cell_type": "code",
      "source": [
        "try:\n",
        "    df = pd.read_csv(csv_path, on_bad_lines='skip', low_memory=False)\n",
        "except TypeError:\n",
        "    df = pd.read_csv(csv_path, error_bad_lines=False, warn_bad_lines=True, low_memory=False)\n",
        "print(\"Product details loaded successfully into DataFrame.\")\n"
      ],
      "metadata": {
        "colab": {
          "base_uri": "https://localhost:8080/"
        },
        "id": "e8mVfY76jJL2",
        "outputId": "60fe3e03-2802-4a24-d54f-d32af782ed72"
      },
      "execution_count": 5,
      "outputs": [
        {
          "output_type": "stream",
          "name": "stdout",
          "text": [
            "Product details loaded successfully into DataFrame.\n"
          ]
        }
      ]
    },
    {
      "cell_type": "code",
      "source": [
        "df.sample(4)"
      ],
      "metadata": {
        "colab": {
          "base_uri": "https://localhost:8080/",
          "height": 264
        },
        "id": "oHj5d69djSR7",
        "outputId": "44aea54e-6b05-4fb0-d371-338260360845"
      },
      "execution_count": 6,
      "outputs": [
        {
          "output_type": "execute_result",
          "data": {
            "text/plain": [
              "          id  gender masterCategory subCategory articleType baseColour  \\\n",
              "24922  12532   Women        Apparel     Topwear     Jackets      Black   \n",
              "35553   3469  Unisex    Accessories    Headwear    Headband      Black   \n",
              "31700  24742   Women    Accessories        Bags    Handbags      Green   \n",
              "42694  28477   Women        Apparel     Topwear      Kurtas     Purple   \n",
              "\n",
              "       season    year   usage                     productDisplayName  \n",
              "24922    Fall  2011.0  Casual         Puma Women Solid Black Jackets  \n",
              "35553    Fall  2010.0  Sports     ADIDAS Unisex Black White Headband  \n",
              "31700  Winter  2015.0  Casual            Murcia Women Casual Handbag  \n",
              "42694  Summer  2012.0  Ethnic  Urban Yoga Women Printed Purple Kurta  "
            ],
            "text/html": [
              "\n",
              "  <div id=\"df-8f2899ff-402f-4445-a832-4366b6d523cd\" class=\"colab-df-container\">\n",
              "    <div>\n",
              "<style scoped>\n",
              "    .dataframe tbody tr th:only-of-type {\n",
              "        vertical-align: middle;\n",
              "    }\n",
              "\n",
              "    .dataframe tbody tr th {\n",
              "        vertical-align: top;\n",
              "    }\n",
              "\n",
              "    .dataframe thead th {\n",
              "        text-align: right;\n",
              "    }\n",
              "</style>\n",
              "<table border=\"1\" class=\"dataframe\">\n",
              "  <thead>\n",
              "    <tr style=\"text-align: right;\">\n",
              "      <th></th>\n",
              "      <th>id</th>\n",
              "      <th>gender</th>\n",
              "      <th>masterCategory</th>\n",
              "      <th>subCategory</th>\n",
              "      <th>articleType</th>\n",
              "      <th>baseColour</th>\n",
              "      <th>season</th>\n",
              "      <th>year</th>\n",
              "      <th>usage</th>\n",
              "      <th>productDisplayName</th>\n",
              "    </tr>\n",
              "  </thead>\n",
              "  <tbody>\n",
              "    <tr>\n",
              "      <th>24922</th>\n",
              "      <td>12532</td>\n",
              "      <td>Women</td>\n",
              "      <td>Apparel</td>\n",
              "      <td>Topwear</td>\n",
              "      <td>Jackets</td>\n",
              "      <td>Black</td>\n",
              "      <td>Fall</td>\n",
              "      <td>2011.0</td>\n",
              "      <td>Casual</td>\n",
              "      <td>Puma Women Solid Black Jackets</td>\n",
              "    </tr>\n",
              "    <tr>\n",
              "      <th>35553</th>\n",
              "      <td>3469</td>\n",
              "      <td>Unisex</td>\n",
              "      <td>Accessories</td>\n",
              "      <td>Headwear</td>\n",
              "      <td>Headband</td>\n",
              "      <td>Black</td>\n",
              "      <td>Fall</td>\n",
              "      <td>2010.0</td>\n",
              "      <td>Sports</td>\n",
              "      <td>ADIDAS Unisex Black White Headband</td>\n",
              "    </tr>\n",
              "    <tr>\n",
              "      <th>31700</th>\n",
              "      <td>24742</td>\n",
              "      <td>Women</td>\n",
              "      <td>Accessories</td>\n",
              "      <td>Bags</td>\n",
              "      <td>Handbags</td>\n",
              "      <td>Green</td>\n",
              "      <td>Winter</td>\n",
              "      <td>2015.0</td>\n",
              "      <td>Casual</td>\n",
              "      <td>Murcia Women Casual Handbag</td>\n",
              "    </tr>\n",
              "    <tr>\n",
              "      <th>42694</th>\n",
              "      <td>28477</td>\n",
              "      <td>Women</td>\n",
              "      <td>Apparel</td>\n",
              "      <td>Topwear</td>\n",
              "      <td>Kurtas</td>\n",
              "      <td>Purple</td>\n",
              "      <td>Summer</td>\n",
              "      <td>2012.0</td>\n",
              "      <td>Ethnic</td>\n",
              "      <td>Urban Yoga Women Printed Purple Kurta</td>\n",
              "    </tr>\n",
              "  </tbody>\n",
              "</table>\n",
              "</div>\n",
              "    <div class=\"colab-df-buttons\">\n",
              "\n",
              "  <div class=\"colab-df-container\">\n",
              "    <button class=\"colab-df-convert\" onclick=\"convertToInteractive('df-8f2899ff-402f-4445-a832-4366b6d523cd')\"\n",
              "            title=\"Convert this dataframe to an interactive table.\"\n",
              "            style=\"display:none;\">\n",
              "\n",
              "  <svg xmlns=\"http://www.w3.org/2000/svg\" height=\"24px\" viewBox=\"0 -960 960 960\">\n",
              "    <path d=\"M120-120v-720h720v720H120Zm60-500h600v-160H180v160Zm220 220h160v-160H400v160Zm0 220h160v-160H400v160ZM180-400h160v-160H180v160Zm440 0h160v-160H620v160ZM180-180h160v-160H180v160Zm440 0h160v-160H620v160Z\"/>\n",
              "  </svg>\n",
              "    </button>\n",
              "\n",
              "  <style>\n",
              "    .colab-df-container {\n",
              "      display:flex;\n",
              "      gap: 12px;\n",
              "    }\n",
              "\n",
              "    .colab-df-convert {\n",
              "      background-color: #E8F0FE;\n",
              "      border: none;\n",
              "      border-radius: 50%;\n",
              "      cursor: pointer;\n",
              "      display: none;\n",
              "      fill: #1967D2;\n",
              "      height: 32px;\n",
              "      padding: 0 0 0 0;\n",
              "      width: 32px;\n",
              "    }\n",
              "\n",
              "    .colab-df-convert:hover {\n",
              "      background-color: #E2EBFA;\n",
              "      box-shadow: 0px 1px 2px rgba(60, 64, 67, 0.3), 0px 1px 3px 1px rgba(60, 64, 67, 0.15);\n",
              "      fill: #174EA6;\n",
              "    }\n",
              "\n",
              "    .colab-df-buttons div {\n",
              "      margin-bottom: 4px;\n",
              "    }\n",
              "\n",
              "    [theme=dark] .colab-df-convert {\n",
              "      background-color: #3B4455;\n",
              "      fill: #D2E3FC;\n",
              "    }\n",
              "\n",
              "    [theme=dark] .colab-df-convert:hover {\n",
              "      background-color: #434B5C;\n",
              "      box-shadow: 0px 1px 3px 1px rgba(0, 0, 0, 0.15);\n",
              "      filter: drop-shadow(0px 1px 2px rgba(0, 0, 0, 0.3));\n",
              "      fill: #FFFFFF;\n",
              "    }\n",
              "  </style>\n",
              "\n",
              "    <script>\n",
              "      const buttonEl =\n",
              "        document.querySelector('#df-8f2899ff-402f-4445-a832-4366b6d523cd button.colab-df-convert');\n",
              "      buttonEl.style.display =\n",
              "        google.colab.kernel.accessAllowed ? 'block' : 'none';\n",
              "\n",
              "      async function convertToInteractive(key) {\n",
              "        const element = document.querySelector('#df-8f2899ff-402f-4445-a832-4366b6d523cd');\n",
              "        const dataTable =\n",
              "          await google.colab.kernel.invokeFunction('convertToInteractive',\n",
              "                                                    [key], {});\n",
              "        if (!dataTable) return;\n",
              "\n",
              "        const docLinkHtml = 'Like what you see? Visit the ' +\n",
              "          '<a target=\"_blank\" href=https://colab.research.google.com/notebooks/data_table.ipynb>data table notebook</a>'\n",
              "          + ' to learn more about interactive tables.';\n",
              "        element.innerHTML = '';\n",
              "        dataTable['output_type'] = 'display_data';\n",
              "        await google.colab.output.renderOutput(dataTable, element);\n",
              "        const docLink = document.createElement('div');\n",
              "        docLink.innerHTML = docLinkHtml;\n",
              "        element.appendChild(docLink);\n",
              "      }\n",
              "    </script>\n",
              "  </div>\n",
              "\n",
              "\n",
              "    <div id=\"df-b2347218-26a2-43bb-aa4b-dd99ff356982\">\n",
              "      <button class=\"colab-df-quickchart\" onclick=\"quickchart('df-b2347218-26a2-43bb-aa4b-dd99ff356982')\"\n",
              "                title=\"Suggest charts\"\n",
              "                style=\"display:none;\">\n",
              "\n",
              "<svg xmlns=\"http://www.w3.org/2000/svg\" height=\"24px\"viewBox=\"0 0 24 24\"\n",
              "     width=\"24px\">\n",
              "    <g>\n",
              "        <path d=\"M19 3H5c-1.1 0-2 .9-2 2v14c0 1.1.9 2 2 2h14c1.1 0 2-.9 2-2V5c0-1.1-.9-2-2-2zM9 17H7v-7h2v7zm4 0h-2V7h2v10zm4 0h-2v-4h2v4z\"/>\n",
              "    </g>\n",
              "</svg>\n",
              "      </button>\n",
              "\n",
              "<style>\n",
              "  .colab-df-quickchart {\n",
              "      --bg-color: #E8F0FE;\n",
              "      --fill-color: #1967D2;\n",
              "      --hover-bg-color: #E2EBFA;\n",
              "      --hover-fill-color: #174EA6;\n",
              "      --disabled-fill-color: #AAA;\n",
              "      --disabled-bg-color: #DDD;\n",
              "  }\n",
              "\n",
              "  [theme=dark] .colab-df-quickchart {\n",
              "      --bg-color: #3B4455;\n",
              "      --fill-color: #D2E3FC;\n",
              "      --hover-bg-color: #434B5C;\n",
              "      --hover-fill-color: #FFFFFF;\n",
              "      --disabled-bg-color: #3B4455;\n",
              "      --disabled-fill-color: #666;\n",
              "  }\n",
              "\n",
              "  .colab-df-quickchart {\n",
              "    background-color: var(--bg-color);\n",
              "    border: none;\n",
              "    border-radius: 50%;\n",
              "    cursor: pointer;\n",
              "    display: none;\n",
              "    fill: var(--fill-color);\n",
              "    height: 32px;\n",
              "    padding: 0;\n",
              "    width: 32px;\n",
              "  }\n",
              "\n",
              "  .colab-df-quickchart:hover {\n",
              "    background-color: var(--hover-bg-color);\n",
              "    box-shadow: 0 1px 2px rgba(60, 64, 67, 0.3), 0 1px 3px 1px rgba(60, 64, 67, 0.15);\n",
              "    fill: var(--button-hover-fill-color);\n",
              "  }\n",
              "\n",
              "  .colab-df-quickchart-complete:disabled,\n",
              "  .colab-df-quickchart-complete:disabled:hover {\n",
              "    background-color: var(--disabled-bg-color);\n",
              "    fill: var(--disabled-fill-color);\n",
              "    box-shadow: none;\n",
              "  }\n",
              "\n",
              "  .colab-df-spinner {\n",
              "    border: 2px solid var(--fill-color);\n",
              "    border-color: transparent;\n",
              "    border-bottom-color: var(--fill-color);\n",
              "    animation:\n",
              "      spin 1s steps(1) infinite;\n",
              "  }\n",
              "\n",
              "  @keyframes spin {\n",
              "    0% {\n",
              "      border-color: transparent;\n",
              "      border-bottom-color: var(--fill-color);\n",
              "      border-left-color: var(--fill-color);\n",
              "    }\n",
              "    20% {\n",
              "      border-color: transparent;\n",
              "      border-left-color: var(--fill-color);\n",
              "      border-top-color: var(--fill-color);\n",
              "    }\n",
              "    30% {\n",
              "      border-color: transparent;\n",
              "      border-left-color: var(--fill-color);\n",
              "      border-top-color: var(--fill-color);\n",
              "      border-right-color: var(--fill-color);\n",
              "    }\n",
              "    40% {\n",
              "      border-color: transparent;\n",
              "      border-right-color: var(--fill-color);\n",
              "      border-top-color: var(--fill-color);\n",
              "    }\n",
              "    60% {\n",
              "      border-color: transparent;\n",
              "      border-right-color: var(--fill-color);\n",
              "    }\n",
              "    80% {\n",
              "      border-color: transparent;\n",
              "      border-right-color: var(--fill-color);\n",
              "      border-bottom-color: var(--fill-color);\n",
              "    }\n",
              "    90% {\n",
              "      border-color: transparent;\n",
              "      border-bottom-color: var(--fill-color);\n",
              "    }\n",
              "  }\n",
              "</style>\n",
              "\n",
              "      <script>\n",
              "        async function quickchart(key) {\n",
              "          const quickchartButtonEl =\n",
              "            document.querySelector('#' + key + ' button');\n",
              "          quickchartButtonEl.disabled = true;  // To prevent multiple clicks.\n",
              "          quickchartButtonEl.classList.add('colab-df-spinner');\n",
              "          try {\n",
              "            const charts = await google.colab.kernel.invokeFunction(\n",
              "                'suggestCharts', [key], {});\n",
              "          } catch (error) {\n",
              "            console.error('Error during call to suggestCharts:', error);\n",
              "          }\n",
              "          quickchartButtonEl.classList.remove('colab-df-spinner');\n",
              "          quickchartButtonEl.classList.add('colab-df-quickchart-complete');\n",
              "        }\n",
              "        (() => {\n",
              "          let quickchartButtonEl =\n",
              "            document.querySelector('#df-b2347218-26a2-43bb-aa4b-dd99ff356982 button');\n",
              "          quickchartButtonEl.style.display =\n",
              "            google.colab.kernel.accessAllowed ? 'block' : 'none';\n",
              "        })();\n",
              "      </script>\n",
              "    </div>\n",
              "\n",
              "    </div>\n",
              "  </div>\n"
            ],
            "application/vnd.google.colaboratory.intrinsic+json": {
              "type": "dataframe",
              "summary": "{\n  \"name\": \"df\",\n  \"rows\": 4,\n  \"fields\": [\n    {\n      \"column\": \"id\",\n      \"properties\": {\n        \"dtype\": \"number\",\n        \"std\": 11465,\n        \"min\": 3469,\n        \"max\": 28477,\n        \"num_unique_values\": 4,\n        \"samples\": [\n          3469,\n          28477,\n          12532\n        ],\n        \"semantic_type\": \"\",\n        \"description\": \"\"\n      }\n    },\n    {\n      \"column\": \"gender\",\n      \"properties\": {\n        \"dtype\": \"string\",\n        \"num_unique_values\": 2,\n        \"samples\": [\n          \"Unisex\",\n          \"Women\"\n        ],\n        \"semantic_type\": \"\",\n        \"description\": \"\"\n      }\n    },\n    {\n      \"column\": \"masterCategory\",\n      \"properties\": {\n        \"dtype\": \"string\",\n        \"num_unique_values\": 2,\n        \"samples\": [\n          \"Accessories\",\n          \"Apparel\"\n        ],\n        \"semantic_type\": \"\",\n        \"description\": \"\"\n      }\n    },\n    {\n      \"column\": \"subCategory\",\n      \"properties\": {\n        \"dtype\": \"string\",\n        \"num_unique_values\": 3,\n        \"samples\": [\n          \"Topwear\",\n          \"Headwear\"\n        ],\n        \"semantic_type\": \"\",\n        \"description\": \"\"\n      }\n    },\n    {\n      \"column\": \"articleType\",\n      \"properties\": {\n        \"dtype\": \"string\",\n        \"num_unique_values\": 4,\n        \"samples\": [\n          \"Headband\",\n          \"Kurtas\"\n        ],\n        \"semantic_type\": \"\",\n        \"description\": \"\"\n      }\n    },\n    {\n      \"column\": \"baseColour\",\n      \"properties\": {\n        \"dtype\": \"string\",\n        \"num_unique_values\": 3,\n        \"samples\": [\n          \"Black\",\n          \"Green\"\n        ],\n        \"semantic_type\": \"\",\n        \"description\": \"\"\n      }\n    },\n    {\n      \"column\": \"season\",\n      \"properties\": {\n        \"dtype\": \"string\",\n        \"num_unique_values\": 3,\n        \"samples\": [\n          \"Fall\",\n          \"Winter\"\n        ],\n        \"semantic_type\": \"\",\n        \"description\": \"\"\n      }\n    },\n    {\n      \"column\": \"year\",\n      \"properties\": {\n        \"dtype\": \"number\",\n        \"std\": 2.160246899469287,\n        \"min\": 2010.0,\n        \"max\": 2015.0,\n        \"num_unique_values\": 4,\n        \"samples\": [\n          2010.0,\n          2012.0\n        ],\n        \"semantic_type\": \"\",\n        \"description\": \"\"\n      }\n    },\n    {\n      \"column\": \"usage\",\n      \"properties\": {\n        \"dtype\": \"string\",\n        \"num_unique_values\": 3,\n        \"samples\": [\n          \"Casual\",\n          \"Sports\"\n        ],\n        \"semantic_type\": \"\",\n        \"description\": \"\"\n      }\n    },\n    {\n      \"column\": \"productDisplayName\",\n      \"properties\": {\n        \"dtype\": \"string\",\n        \"num_unique_values\": 4,\n        \"samples\": [\n          \"ADIDAS Unisex Black White Headband\",\n          \"Urban Yoga Women Printed Purple Kurta\"\n        ],\n        \"semantic_type\": \"\",\n        \"description\": \"\"\n      }\n    }\n  ]\n}"
            }
          },
          "metadata": {},
          "execution_count": 6
        }
      ]
    },
    {
      "cell_type": "code",
      "source": [
        "df['image_path'] = df['id'].apply(lambda x: os.path.join(extract_dir, 'images', f'{x}.jpg'))"
      ],
      "metadata": {
        "id": "GCIedFhIjdua"
      },
      "execution_count": 7,
      "outputs": []
    },
    {
      "cell_type": "code",
      "source": [
        "df.isna().sum()"
      ],
      "metadata": {
        "colab": {
          "base_uri": "https://localhost:8080/",
          "height": 429
        },
        "id": "naxVNpYgkHJa",
        "outputId": "1c563795-a3ed-4dc2-81dc-a0b52fc8a516"
      },
      "execution_count": 8,
      "outputs": [
        {
          "output_type": "execute_result",
          "data": {
            "text/plain": [
              "id                      0\n",
              "gender                  0\n",
              "masterCategory          0\n",
              "subCategory             0\n",
              "articleType             0\n",
              "baseColour             15\n",
              "season                 21\n",
              "year                    1\n",
              "usage                 317\n",
              "productDisplayName      7\n",
              "image_path              0\n",
              "dtype: int64"
            ],
            "text/html": [
              "<div>\n",
              "<style scoped>\n",
              "    .dataframe tbody tr th:only-of-type {\n",
              "        vertical-align: middle;\n",
              "    }\n",
              "\n",
              "    .dataframe tbody tr th {\n",
              "        vertical-align: top;\n",
              "    }\n",
              "\n",
              "    .dataframe thead th {\n",
              "        text-align: right;\n",
              "    }\n",
              "</style>\n",
              "<table border=\"1\" class=\"dataframe\">\n",
              "  <thead>\n",
              "    <tr style=\"text-align: right;\">\n",
              "      <th></th>\n",
              "      <th>0</th>\n",
              "    </tr>\n",
              "  </thead>\n",
              "  <tbody>\n",
              "    <tr>\n",
              "      <th>id</th>\n",
              "      <td>0</td>\n",
              "    </tr>\n",
              "    <tr>\n",
              "      <th>gender</th>\n",
              "      <td>0</td>\n",
              "    </tr>\n",
              "    <tr>\n",
              "      <th>masterCategory</th>\n",
              "      <td>0</td>\n",
              "    </tr>\n",
              "    <tr>\n",
              "      <th>subCategory</th>\n",
              "      <td>0</td>\n",
              "    </tr>\n",
              "    <tr>\n",
              "      <th>articleType</th>\n",
              "      <td>0</td>\n",
              "    </tr>\n",
              "    <tr>\n",
              "      <th>baseColour</th>\n",
              "      <td>15</td>\n",
              "    </tr>\n",
              "    <tr>\n",
              "      <th>season</th>\n",
              "      <td>21</td>\n",
              "    </tr>\n",
              "    <tr>\n",
              "      <th>year</th>\n",
              "      <td>1</td>\n",
              "    </tr>\n",
              "    <tr>\n",
              "      <th>usage</th>\n",
              "      <td>317</td>\n",
              "    </tr>\n",
              "    <tr>\n",
              "      <th>productDisplayName</th>\n",
              "      <td>7</td>\n",
              "    </tr>\n",
              "    <tr>\n",
              "      <th>image_path</th>\n",
              "      <td>0</td>\n",
              "    </tr>\n",
              "  </tbody>\n",
              "</table>\n",
              "</div><br><label><b>dtype:</b> int64</label>"
            ]
          },
          "metadata": {},
          "execution_count": 8
        }
      ]
    },
    {
      "cell_type": "code",
      "source": [
        "df.dropna(subset=['baseColour','season','year', 'usage', 'productDisplayName', 'masterCategory'], inplace=True)"
      ],
      "metadata": {
        "id": "PUIVtZP2kZNn"
      },
      "execution_count": 9,
      "outputs": []
    },
    {
      "cell_type": "code",
      "source": [
        "df = df[df['productDisplayName'].apply(lambda x: isinstance(x, str) and len(x.strip()) > 0)]\n",
        "df = df[df['masterCategory'].apply(lambda x: isinstance(x, str) and len(x.strip()) > 0)]"
      ],
      "metadata": {
        "id": "MpS2w5RfllDa"
      },
      "execution_count": 10,
      "outputs": []
    },
    {
      "cell_type": "code",
      "source": [
        "df['image_exists'] = df['image_path'].apply(lambda x: os.path.exists(x))\n",
        "df = df[df['image_exists'] == True]\n",
        "df.drop(columns=['image_exists'], inplace=True)"
      ],
      "metadata": {
        "colab": {
          "base_uri": "https://localhost:8080/"
        },
        "id": "dJZ-t6Yfl2kj",
        "outputId": "c22799a4-ce66-4a2d-aac2-a33e08674335"
      },
      "execution_count": 11,
      "outputs": [
        {
          "output_type": "stream",
          "name": "stderr",
          "text": [
            "/tmp/ipython-input-11-4057592718.py:3: SettingWithCopyWarning: \n",
            "A value is trying to be set on a copy of a slice from a DataFrame\n",
            "\n",
            "See the caveats in the documentation: https://pandas.pydata.org/pandas-docs/stable/user_guide/indexing.html#returning-a-view-versus-a-copy\n",
            "  df.drop(columns=['image_exists'], inplace=True)\n"
          ]
        }
      ]
    },
    {
      "cell_type": "code",
      "source": [
        "print(f\"\\nTotal products ready for processing: {len(df)}\")\n",
        "print(f\"Number of unique main product categories: {df['masterCategory'].nunique()}\")\n",
        "print(f\"Breakdown of products per category:\\n{df['masterCategory'].value_counts()}\")"
      ],
      "metadata": {
        "colab": {
          "base_uri": "https://localhost:8080/"
        },
        "id": "UwdlnhcvmfoT",
        "outputId": "eaa89be0-5dde-4f1f-a974-c71a8714c000"
      },
      "execution_count": 12,
      "outputs": [
        {
          "output_type": "stream",
          "name": "stdout",
          "text": [
            "\n",
            "Total products ready for processing: 44072\n",
            "Number of unique main product categories: 7\n",
            "Breakdown of products per category:\n",
            "masterCategory\n",
            "Apparel           21361\n",
            "Accessories       11244\n",
            "Footwear           9197\n",
            "Personal Care      2139\n",
            "Free Items          105\n",
            "Sporting Goods       25\n",
            "Home                  1\n",
            "Name: count, dtype: int64\n"
          ]
        }
      ]
    },
    {
      "cell_type": "code",
      "source": [
        "# --- New Sub-step (After Step 1: Data Acquisition, before Step 2.1: Image Pre-processing) ---\n",
        "\n",
        "print(\"\\n--- Filtering Out Rare Product Categories ---\")\n",
        "\n",
        "# First, let's see how many products are in each category\n",
        "category_counts = df['masterCategory'].value_counts()\n",
        "print(\"Original category counts:\")\n",
        "print(category_counts)\n",
        "\n",
        "# We want to remove categories that have too few products.\n",
        "# The error specifically says \"less than 2\", so we must remove categories with only 1 product.\n",
        "# For robustness and better learning, it's often good to remove categories with, say, less than 5 products.\n",
        "MIN_SAMPLES_PER_CATEGORY = 5 # You can adjust this number (e.g., 2, 3, 10)\n",
        "\n",
        "# Get a list of categories that meet our minimum sample requirement\n",
        "categories_to_keep = category_counts[category_counts >= MIN_SAMPLES_PER_CATEGORY].index.tolist()\n",
        "\n",
        "# Filter our main DataFrame to only include products from these \"common\" categories\n",
        "df_filtered = df[df['masterCategory'].isin(categories_to_keep)].copy()\n",
        "\n",
        "removed_categories_count = len(category_counts) - len(categories_to_keep)\n",
        "removed_products_count = len(df) - len(df_filtered)\n",
        "\n",
        "print(f\"\\nRemoved {removed_categories_count} categories with less than {MIN_SAMPLES_PER_CATEGORY} samples.\")\n",
        "print(f\"Removed {removed_products_count} products belonging to these rare categories.\")\n",
        "print(f\"New total number of products after filtering: {len(df_filtered)}\")\n",
        "print(f\"New number of unique categories: {len(df_filtered['masterCategory'].unique())}\")\n",
        "\n",
        "# Replace the original DataFrame 'df' with the filtered one for all subsequent steps\n",
        "df = df_filtered\n",
        "\n",
        "print(\"\\nUpdated category counts after filtering:\")\n",
        "print(df['masterCategory'].value_counts())"
      ],
      "metadata": {
        "colab": {
          "base_uri": "https://localhost:8080/"
        },
        "id": "-vCvZw0iZcgz",
        "outputId": "730b64c4-9552-4c6c-d96a-40edb258ee96"
      },
      "execution_count": 13,
      "outputs": [
        {
          "output_type": "stream",
          "name": "stdout",
          "text": [
            "\n",
            "--- Filtering Out Rare Product Categories ---\n",
            "Original category counts:\n",
            "masterCategory\n",
            "Apparel           21361\n",
            "Accessories       11244\n",
            "Footwear           9197\n",
            "Personal Care      2139\n",
            "Free Items          105\n",
            "Sporting Goods       25\n",
            "Home                  1\n",
            "Name: count, dtype: int64\n",
            "\n",
            "Removed 1 categories with less than 5 samples.\n",
            "Removed 1 products belonging to these rare categories.\n",
            "New total number of products after filtering: 44071\n",
            "New number of unique categories: 6\n",
            "\n",
            "Updated category counts after filtering:\n",
            "masterCategory\n",
            "Apparel           21361\n",
            "Accessories       11244\n",
            "Footwear           9197\n",
            "Personal Care      2139\n",
            "Free Items          105\n",
            "Sporting Goods       25\n",
            "Name: count, dtype: int64\n"
          ]
        }
      ]
    },
    {
      "cell_type": "code",
      "source": [
        "def _load_and_preprocess_image_inner(image_path_bytes):\n",
        "    image_path = image_path_bytes.decode('utf-8')\n",
        "\n",
        "    try:\n",
        "        img = Image.open(image_path).convert('RGB')\n",
        "        img = img.resize((IMG_WIDTH, IMG_HEIGHT))\n",
        "        img_array = np.array(img).astype(np.float32) / 255.0\n",
        "        return img_array\n",
        "    except Exception as e:\n",
        "        print(f\"Warning: Could not decode or load image {image_path}: {e}. Returning black image.\")\n",
        "        return np.zeros((IMG_HEIGHT, IMG_WIDTH, 3), dtype=np.float32)\n",
        "\n",
        "def load_and_preprocess_image(image_path_tensor):\n",
        "    image_tensor = tf.py_function(\n",
        "        _load_and_preprocess_image_inner,\n",
        "        [image_path_tensor],\n",
        "        [tf.float32]\n",
        "    )[0]\n",
        "\n",
        "    image_tensor.set_shape([IMG_HEIGHT, IMG_WIDTH, 3])\n",
        "    return image_tensor\n",
        "\n",
        "print(\"Image pre-processing function updated for tf.data.Dataset streaming compatibility.\")"
      ],
      "metadata": {
        "colab": {
          "base_uri": "https://localhost:8080/"
        },
        "id": "1AEE9JbWpley",
        "outputId": "dbce8a50-4493-4e39-dc42-2500152ed49e"
      },
      "execution_count": 14,
      "outputs": [
        {
          "output_type": "stream",
          "name": "stdout",
          "text": [
            "Image pre-processing function updated for tf.data.Dataset streaming compatibility.\n"
          ]
        }
      ]
    },
    {
      "cell_type": "code",
      "source": [
        "tokenizer = AutoTokenizer.from_pretrained('bert-base-uncased')\n",
        "MAX_LENGTH = 64\n",
        "\n",
        "def tokenize_func(text, tokenizer, max_length):\n",
        "    encoded_input = tokenizer.batch_encode_plus(\n",
        "        text.tolist(),\n",
        "        max_length = max_length,\n",
        "        padding = 'max_length',\n",
        "        truncation = True,\n",
        "        return_tensors = 'tf'\n",
        "    )\n",
        "    return encoded_input['input_ids'], encoded_input['attention_mask']\n",
        "\n",
        "x_input_ids , x_attention_mask = tokenize_func(df['productDisplayName'], tokenizer, MAX_LENGTH)\n",
        "x_input_ids = x_input_ids.numpy()\n",
        "x_attention_mask = x_attention_mask.numpy()\n",
        "\n",
        "print(f\"Shape of x_input_ids : {x_input_ids.shape}\")\n",
        "print(f\"Shape of x_attention_mask : {x_attention_mask.shape}\")"
      ],
      "metadata": {
        "colab": {
          "base_uri": "https://localhost:8080/"
        },
        "id": "P-sXw7c7wY3j",
        "outputId": "c288923b-7b98-4aa6-b9a5-a66b31dc775a"
      },
      "execution_count": 15,
      "outputs": [
        {
          "output_type": "stream",
          "name": "stderr",
          "text": [
            "/usr/local/lib/python3.11/dist-packages/huggingface_hub/utils/_auth.py:94: UserWarning: \n",
            "The secret `HF_TOKEN` does not exist in your Colab secrets.\n",
            "To authenticate with the Hugging Face Hub, create a token in your settings tab (https://huggingface.co/settings/tokens), set it as secret in your Google Colab and restart your session.\n",
            "You will be able to reuse this secret in all of your notebooks.\n",
            "Please note that authentication is recommended but still optional to access public models or datasets.\n",
            "  warnings.warn(\n"
          ]
        },
        {
          "output_type": "stream",
          "name": "stdout",
          "text": [
            "Shape of x_input_ids : (44071, 64)\n",
            "Shape of x_attention_mask : (44071, 64)\n"
          ]
        }
      ]
    },
    {
      "cell_type": "code",
      "source": [
        "encoder = LabelEncoder()\n",
        "y_encoded = encoder.fit_transform(df['masterCategory'])\n",
        "\n",
        "label_classes = len(encoder.classes_)\n",
        "y_one_hot = keras.utils.to_categorical(y_encoded, num_classes=label_classes)\n",
        "\n",
        "\n",
        "print(f\"Shape of y_encoded : {y_encoded.shape}\")\n",
        "print(f\"Shape of y_one_hot : {y_one_hot.shape}\")\n",
        "print(f\"Original product categories: {encoder.classes_}\")\n",
        "print(f\"First 5 original categories: {df['masterCategory'].head().tolist()}\")\n",
        "print(f\"First 5 one-hot encoded labels:\\n{y_one_hot[:5]}\")"
      ],
      "metadata": {
        "colab": {
          "base_uri": "https://localhost:8080/"
        },
        "id": "9yGpLnwbNyMR",
        "outputId": "e8893001-76e8-4293-8649-7b6fbcaed5f0"
      },
      "execution_count": 16,
      "outputs": [
        {
          "output_type": "stream",
          "name": "stdout",
          "text": [
            "Shape of y_encoded : (44071,)\n",
            "Shape of y_one_hot : (44071, 6)\n",
            "Original product categories: ['Accessories' 'Apparel' 'Footwear' 'Free Items' 'Personal Care'\n",
            " 'Sporting Goods']\n",
            "First 5 original categories: ['Apparel', 'Apparel', 'Accessories', 'Apparel', 'Apparel']\n",
            "First 5 one-hot encoded labels:\n",
            "[[0. 1. 0. 0. 0. 0.]\n",
            " [0. 1. 0. 0. 0. 0.]\n",
            " [1. 0. 0. 0. 0. 0.]\n",
            " [0. 1. 0. 0. 0. 0.]\n",
            " [0. 1. 0. 0. 0. 0.]]\n"
          ]
        }
      ]
    },
    {
      "cell_type": "code",
      "source": [
        "df.info()"
      ],
      "metadata": {
        "colab": {
          "base_uri": "https://localhost:8080/"
        },
        "id": "l1X2NPSBRYoj",
        "outputId": "a329d6a6-bf4c-47a2-a22a-1c7473daffb1"
      },
      "execution_count": 17,
      "outputs": [
        {
          "output_type": "stream",
          "name": "stdout",
          "text": [
            "<class 'pandas.core.frame.DataFrame'>\n",
            "Index: 44071 entries, 0 to 44423\n",
            "Data columns (total 11 columns):\n",
            " #   Column              Non-Null Count  Dtype  \n",
            "---  ------              --------------  -----  \n",
            " 0   id                  44071 non-null  int64  \n",
            " 1   gender              44071 non-null  object \n",
            " 2   masterCategory      44071 non-null  object \n",
            " 3   subCategory         44071 non-null  object \n",
            " 4   articleType         44071 non-null  object \n",
            " 5   baseColour          44071 non-null  object \n",
            " 6   season              44071 non-null  object \n",
            " 7   year                44071 non-null  float64\n",
            " 8   usage               44071 non-null  object \n",
            " 9   productDisplayName  44071 non-null  object \n",
            " 10  image_path          44071 non-null  object \n",
            "dtypes: float64(1), int64(1), object(9)\n",
            "memory usage: 4.0+ MB\n"
          ]
        }
      ]
    },
    {
      "cell_type": "code",
      "source": [
        "print(\"\\nHow many products are in each main category (distribution):\")\n",
        "plt.figure(figsize=(6, 3))\n",
        "sns.countplot(data=df, y='masterCategory', order=df['masterCategory'].value_counts().index, palette='viridis')\n",
        "plt.title('Distribution of Products Across Main Categories')\n",
        "plt.xlabel('Number of Products')\n",
        "plt.ylabel('Product Category')\n",
        "plt.show()"
      ],
      "metadata": {
        "colab": {
          "base_uri": "https://localhost:8080/",
          "height": 475
        },
        "id": "YUPo1-AIUWdp",
        "outputId": "c924c5b8-dbcc-42e4-abca-7e08c7ad0fe2"
      },
      "execution_count": 18,
      "outputs": [
        {
          "output_type": "stream",
          "name": "stdout",
          "text": [
            "\n",
            "How many products are in each main category (distribution):\n"
          ]
        },
        {
          "output_type": "stream",
          "name": "stderr",
          "text": [
            "/tmp/ipython-input-18-1126165046.py:3: FutureWarning: \n",
            "\n",
            "Passing `palette` without assigning `hue` is deprecated and will be removed in v0.14.0. Assign the `y` variable to `hue` and set `legend=False` for the same effect.\n",
            "\n",
            "  sns.countplot(data=df, y='masterCategory', order=df['masterCategory'].value_counts().index, palette='viridis')\n"
          ]
        },
        {
          "output_type": "display_data",
          "data": {
            "text/plain": [
              "<Figure size 600x300 with 1 Axes>"
            ],
            "image/png": "[encoded data removed]"
          },
          "metadata": {}
        }
      ]
    },
    {
      "cell_type": "code",
      "source": [
        "print(\"\\nLength of product titles (number of words):\")\n",
        "df['title_length'] = df['productDisplayName'].apply(lambda x: len(x.split()))\n",
        "plt.figure(figsize=(8, 3))\n",
        "sns.histplot(df['title_length'], bins=20, kde=True, color='skyblue')\n",
        "plt.title('Distribution of Product Title Lengths (Words)')\n",
        "plt.xlabel('Number of Words in Title')\n",
        "plt.ylabel('Frequency')\n",
        "plt.axvline(MAX_LENGTH, color='red', linestyle='--', label=f'Max BERT Token Length ({MAX_LENGTH})')\n",
        "plt.legend()\n",
        "plt.show()"
      ],
      "metadata": {
        "colab": {
          "base_uri": "https://localhost:8080/",
          "height": 368
        },
        "id": "02akxb5EU3Qe",
        "outputId": "96640836-59ef-4dde-b21a-fa059aba594a"
      },
      "execution_count": 19,
      "outputs": [
        {
          "output_type": "stream",
          "name": "stdout",
          "text": [
            "\n",
            "Length of product titles (number of words):\n"
          ]
        },
        {
          "output_type": "display_data",
          "data": {
            "text/plain": [
              "<Figure size 800x300 with 1 Axes>"
            ],
            "image/png": "[encoded data removed]"
          },
          "metadata": {}
        }
      ]
    },
    {
      "cell_type": "code",
      "source": [
        "sample_idx = 18888\n",
        "sample_original_img = Image.open(df['image_path'].iloc[sample_idx])\n",
        "plt.figure(figsize=(4, 4))\n",
        "plt.imshow(sample_original_img)\n",
        "plt.title(f\"Sample Original Image (ID: {df['id'].iloc[sample_idx]})\")\n",
        "plt.axis('off')\n",
        "plt.show()"
      ],
      "metadata": {
        "colab": {
          "base_uri": "https://localhost:8080/",
          "height": 367
        },
        "id": "o1OzIK7fVMpS",
        "outputId": "bd7b77a0-2ce1-43f6-a107-41df9d9deaa2"
      },
      "execution_count": 20,
      "outputs": [
        {
          "output_type": "display_data",
          "data": {
            "text/plain": [
              "<Figure size 400x400 with 1 Axes>"
            ],
            "image/png": "[encoded data removed]"
          },
          "metadata": {}
        }
      ]
    },
    {
      "cell_type": "code",
      "source": [
        "sample_title = df['productDisplayName'].iloc[sample_idx]\n",
        "print(f\"\\nOriginal Sample Title: '{sample_title}'\")\n",
        "tokenized_sample = tokenizer.encode_plus(\n",
        "    sample_title,\n",
        "    max_length=MAX_LENGTH,\n",
        "    padding='max_length',\n",
        "    truncation=True,\n",
        "    return_tensors='tf'\n",
        ")\n",
        "print(f\"BERT Input IDs (first 20): {tokenized_sample['input_ids'][0, :20].numpy()}\")\n",
        "print(f\"BERT Attention Mask (first 20): {tokenized_sample['attention_mask'][0, :20].numpy()}\")\n",
        "print(f\"Decoded BERT Tokens (first 20): {tokenizer.convert_ids_to_tokens(tokenized_sample['input_ids'][0, :20].numpy())}\")\n"
      ],
      "metadata": {
        "colab": {
          "base_uri": "https://localhost:8080/"
        },
        "id": "TiSSxuc8V5NQ",
        "outputId": "f551d827-217f-4a63-f098-00dcf4f05fb4"
      },
      "execution_count": 21,
      "outputs": [
        {
          "output_type": "stream",
          "name": "stdout",
          "text": [
            "\n",
            "Original Sample Title: 'Rocky S Women Cream Wallet'\n",
            "BERT Input IDs (first 20): [  101  6857  1055  2308  6949 15882   102     0     0     0     0     0\n",
            "     0     0     0     0     0     0     0     0]\n",
            "BERT Attention Mask (first 20): [1 1 1 1 1 1 1 0 0 0 0 0 0 0 0 0 0 0 0 0]\n",
            "Decoded BERT Tokens (first 20): ['[CLS]', 'rocky', 's', 'women', 'cream', 'wallet', '[SEP]', '[PAD]', '[PAD]', '[PAD]', '[PAD]', '[PAD]', '[PAD]', '[PAD]', '[PAD]', '[PAD]', '[PAD]', '[PAD]', '[PAD]', '[PAD]']\n"
          ]
        }
      ]
    },
    {
      "cell_type": "code",
      "source": [
        "x_train_images_path, x_temp_images_path, \\\n",
        "x_train_input_ids, x_temp_input_ids, \\\n",
        "x_train_mask, x_temp_mask, \\\n",
        "y_train, y_temp = train_test_split(df['image_path'], x_input_ids, x_attention_mask, y_one_hot, test_size=0.3, random_state=42, stratify=y_one_hot)\n"
      ],
      "metadata": {
        "id": "uIBKF2F4WTnb"
      },
      "execution_count": 22,
      "outputs": []
    },
    {
      "cell_type": "code",
      "source": [
        "x_val_images_path , x_test_images_path, \\\n",
        "x_val_input_ids, x_test_input_ids, \\\n",
        "x_val_mask, x_test_mask, \\\n",
        "y_val, y_test = train_test_split(x_temp_images_path, x_temp_input_ids, x_temp_mask, y_temp, test_size=0.5, random_state=42, stratify=y_temp)"
      ],
      "metadata": {
        "id": "CPSqUBdmXyUU"
      },
      "execution_count": 23,
      "outputs": []
    },
    {
      "cell_type": "code",
      "source": [
        "print(f\"Number of products for Training: {len(x_train_images_path)}\")\n",
        "print(f\"Number of products for Validation: {len(x_val_images_path)}\")\n",
        "print(f\"Number of products for Testing: {len(x_test_images_path)}\")\n",
        "\n",
        "\n",
        "print(f\"Shapes of training data:\")\n",
        "print(f\"  Images: {x_train_images_path.shape}\")\n",
        "print(f\"  Text Input IDs: {x_train_input_ids.shape}\")\n",
        "print(f\"  Text Attention Mask: {x_train_mask.shape}\")\n",
        "print(f\"  Labels: {y_train.shape}\")"
      ],
      "metadata": {
        "colab": {
          "base_uri": "https://localhost:8080/"
        },
        "id": "YD5D_rh3bmOJ",
        "outputId": "49ab5033-0a2b-4888-96f8-b19b6b49917a"
      },
      "execution_count": 24,
      "outputs": [
        {
          "output_type": "stream",
          "name": "stdout",
          "text": [
            "Number of products for Training: 30849\n",
            "Number of products for Validation: 6611\n",
            "Number of products for Testing: 6611\n",
            "Shapes of training data:\n",
            "  Images: (30849,)\n",
            "  Text Input IDs: (30849, 64)\n",
            "  Text Attention Mask: (30849, 64)\n",
            "  Labels: (30849, 6)\n"
          ]
        }
      ]
    },
    {
      "cell_type": "code",
      "source": [
        "GLOBAL_BATCH_SIZE = 64\n",
        "\n",
        "def load_sample(image_path, input_id, input_mask, label):\n",
        "    img = load_and_preprocess_image(image_path)\n",
        "\n",
        "    return {\n",
        "        'image_input': img,\n",
        "        'input_mask':input_mask,\n",
        "        'input_id': input_id\n",
        "    }, label\n",
        ""
      ],
      "metadata": {
        "id": "mfyR1YuGcCAW"
      },
      "execution_count": 25,
      "outputs": []
    },
    {
      "cell_type": "code",
      "source": [
        "train_dataset = tf.data.Dataset.from_tensor_slices((\n",
        "    x_train_images_path, x_train_input_ids, x_train_mask, y_train\n",
        "))"
      ],
      "metadata": {
        "id": "ZbLL2wNre-TG"
      },
      "execution_count": 26,
      "outputs": []
    },
    {
      "cell_type": "code",
      "source": [
        "train_dataset = train_dataset.map(load_sample, num_parallel_calls=tf.data.AUTOTUNE).shuffle(buffer_size=1024).batch(GLOBAL_BATCH_SIZE).prefetch(tf.data.AUTOTUNE)"
      ],
      "metadata": {
        "id": "fVZ7oU3sfSh1"
      },
      "execution_count": 27,
      "outputs": []
    },
    {
      "cell_type": "code",
      "source": [
        "val_dataset = tf.data.Dataset.from_tensor_slices((\n",
        "    x_val_images_path, x_val_input_ids, x_val_mask, y_val\n",
        "))\n",
        "val_dataset = val_dataset.map(load_sample, num_parallel_calls=tf.data.AUTOTUNE).batch(GLOBAL_BATCH_SIZE).prefetch(tf.data.AUTOTUNE)"
      ],
      "metadata": {
        "id": "3xJNYhc8f66l"
      },
      "execution_count": 28,
      "outputs": []
    },
    {
      "cell_type": "code",
      "source": [
        "image_input = keras.Input(shape=(IMG_HEIGHT, IMG_WIDTH, 3), name='image_input')\n",
        "\n",
        "\n",
        "base_cnn = keras.applications.MobileNetV2(\n",
        "    input_shape=(IMG_HEIGHT, IMG_WIDTH, 3),\n",
        "    include_top=False,\n",
        "    weights='imagenet'\n",
        ")\n",
        "\n",
        "base_cnn.trainable = False\n",
        "\n",
        "x_img = base_cnn(image_input)\n",
        "x_img = layers.GlobalAveragePooling2D(name='image_global_avg_pooling')(x_img)\n",
        "\n",
        "\n",
        "input_ids = keras.Input(shape=(MAX_LENGTH,), dtype=tf.int32, name='input_ids')\n",
        "attention_mask = keras.Input(shape=(MAX_LENGTH,), dtype=tf.int32, name='attention_mask')\n",
        "\n",
        "bert_model = TFAutoModel.from_pretrained('bert-base-uncased')\n",
        "\n",
        "bert_model.trainable = False\n",
        "\n",
        "bert_output_tuple = bert_model(input_ids, attention_mask=attention_mask, return_dict=False)\n",
        "x_text = bert_output_tuple[1]\n",
        "\n",
        "\n",
        "concatenated_features = layers.concatenate([x_img, x_text], name='concatenate_features')\n",
        "\n",
        "\n",
        "x = layers.Dense(256, activation='relu', name='dense_1')(concatenated_features)\n",
        "x = layers.Dropout(0.3, name='dropout_1')(x)\n",
        "x = layers.Dense(128, activation='relu', name='dense_2')(x)\n",
        "x = layers.Dropout(0.3, name='dropout_2')(x)\n",
        "\n",
        "output = layers.Dense(label_classes, activation='softmax', name='output_layer')(x)\n",
        "\n",
        "\n",
        "model = keras.Model(inputs=[image_input, input_ids, attention_mask], outputs=output, name='Product_Classifier_Model')\n",
        "\n",
        "model.compile(optimizer='adam',\n",
        "              loss='categorical_crossentropy',\n",
        "              metrics=['accuracy'])\n",
        "\n",
        "model.summary()"
      ],
      "metadata": {
        "colab": {
          "base_uri": "https://localhost:8080/",
          "height": 845
        },
        "id": "_Zvo7KZkibRv",
        "outputId": "1e47070e-46c9-4d3d-ad76-7d4a0d6f5bb2"
      },
      "execution_count": 29,
      "outputs": [
        {
          "output_type": "stream",
          "name": "stderr",
          "text": [
            "TensorFlow and JAX classes are deprecated and will be removed in Transformers v5. We recommend migrating to PyTorch classes or pinning your version of Transformers.\n",
            "Some weights of the PyTorch model were not used when initializing the TF 2.0 model TFBertModel: ['cls.predictions.transform.dense.weight', 'cls.predictions.transform.LayerNorm.weight', 'cls.predictions.transform.LayerNorm.bias', 'cls.predictions.bias', 'cls.seq_relationship.bias', 'cls.predictions.transform.dense.bias', 'cls.seq_relationship.weight']\n",
            "- This IS expected if you are initializing TFBertModel from a PyTorch model trained on another task or with another architecture (e.g. initializing a TFBertForSequenceClassification model from a BertForPreTraining model).\n",
            "- This IS NOT expected if you are initializing TFBertModel from a PyTorch model that you expect to be exactly identical (e.g. initializing a TFBertForSequenceClassification model from a BertForSequenceClassification model).\n",
            "All the weights of TFBertModel were initialized from the PyTorch model.\n",
            "If your task is similar to the task the model of the checkpoint was trained on, you can already use TFBertModel for predictions without further training.\n"
          ]
        },
        {
          "output_type": "error",
          "ename": "ValueError",
          "evalue": "Exception encountered when calling layer 'tf_bert_model' (type TFBertModel).\n\nData of type <class 'keras.src.backend.common.keras_tensor.KerasTensor'> is not allowed only (<class 'tensorflow.python.framework.tensor.Tensor'>, <class 'bool'>, <class 'int'>, <class 'transformers.utils.generic.ModelOutput'>, <class 'tuple'>, <class 'list'>, <class 'dict'>, <class 'numpy.ndarray'>) is accepted for attention_mask.\n\nCall arguments received by layer 'tf_bert_model' (type TFBertModel):\n  • input_ids=<KerasTensor shape=(None, 64), dtype=int32, sparse=False, name=input_ids>\n  • attention_mask=<KerasTensor shape=(None, 64), dtype=int32, sparse=False, name=attention_mask>\n  • token_type_ids=None\n  • position_ids=None\n  • head_mask=None\n  • inputs_embeds=None\n  • encoder_hidden_states=None\n  • encoder_attention_mask=None\n  • past_key_values=None\n  • use_cache=None\n  • output_attentions=None\n  • output_hidden_states=None\n  • return_dict=False\n  • training=False",
          "traceback": [
            "\u001b[0;31m---------------------------------------------------------------------------\u001b[0m",
            "\u001b[0;31mValueError\u001b[0m                                Traceback (most recent call last)",
            "\u001b[0;32m/tmp/ipython-input-29-2033651687.py\u001b[0m in \u001b[0;36m<cell line: 0>\u001b[0;34m()\u001b[0m\n\u001b[1;32m     21\u001b[0m \u001b[0mbert_model\u001b[0m\u001b[0;34m.\u001b[0m\u001b[0mtrainable\u001b[0m \u001b[0;34m=\u001b[0m \u001b[0;32mFalse\u001b[0m\u001b[0;34m\u001b[0m\u001b[0;34m\u001b[0m\u001b[0m\n\u001b[1;32m     22\u001b[0m \u001b[0;34m\u001b[0m\u001b[0m\n\u001b[0;32m---> 23\u001b[0;31m \u001b[0mbert_output_tuple\u001b[0m \u001b[0;34m=\u001b[0m \u001b[0mbert_model\u001b[0m\u001b[0;34m(\u001b[0m\u001b[0minput_ids\u001b[0m\u001b[0;34m,\u001b[0m \u001b[0mattention_mask\u001b[0m\u001b[0;34m=\u001b[0m\u001b[0mattention_mask\u001b[0m\u001b[0;34m,\u001b[0m \u001b[0mreturn_dict\u001b[0m\u001b[0;34m=\u001b[0m\u001b[0;32mFalse\u001b[0m\u001b[0;34m)\u001b[0m\u001b[0;34m\u001b[0m\u001b[0;34m\u001b[0m\u001b[0m\n\u001b[0m\u001b[1;32m     24\u001b[0m \u001b[0mx_text\u001b[0m \u001b[0;34m=\u001b[0m \u001b[0mbert_output_tuple\u001b[0m\u001b[0;34m[\u001b[0m\u001b[0;36m1\u001b[0m\u001b[0;34m]\u001b[0m\u001b[0;34m\u001b[0m\u001b[0;34m\u001b[0m\u001b[0m\n\u001b[1;32m     25\u001b[0m \u001b[0;34m\u001b[0m\u001b[0m\n",
            "\u001b[0;32m/usr/local/lib/python3.11/dist-packages/tf_keras/src/utils/traceback_utils.py\u001b[0m in \u001b[0;36merror_handler\u001b[0;34m(*args, **kwargs)\u001b[0m\n\u001b[1;32m     68\u001b[0m             \u001b[0;31m# To get the full stack trace, call:\u001b[0m\u001b[0;34m\u001b[0m\u001b[0;34m\u001b[0m\u001b[0m\n\u001b[1;32m     69\u001b[0m             \u001b[0;31m# `tf.debugging.disable_traceback_filtering()`\u001b[0m\u001b[0;34m\u001b[0m\u001b[0;34m\u001b[0m\u001b[0m\n\u001b[0;32m---> 70\u001b[0;31m             \u001b[0;32mraise\u001b[0m \u001b[0me\u001b[0m\u001b[0;34m.\u001b[0m\u001b[0mwith_traceback\u001b[0m\u001b[0;34m(\u001b[0m\u001b[0mfiltered_tb\u001b[0m\u001b[0;34m)\u001b[0m \u001b[0;32mfrom\u001b[0m \u001b[0;32mNone\u001b[0m\u001b[0;34m\u001b[0m\u001b[0;34m\u001b[0m\u001b[0m\n\u001b[0m\u001b[1;32m     71\u001b[0m         \u001b[0;32mfinally\u001b[0m\u001b[0;34m:\u001b[0m\u001b[0;34m\u001b[0m\u001b[0;34m\u001b[0m\u001b[0m\n\u001b[1;32m     72\u001b[0m             \u001b[0;32mdel\u001b[0m \u001b[0mfiltered_tb\u001b[0m\u001b[0;34m\u001b[0m\u001b[0;34m\u001b[0m\u001b[0m\n",
            "\u001b[0;32m/usr/local/lib/python3.11/dist-packages/transformers/modeling_tf_utils.py\u001b[0m in \u001b[0;36mrun_call_with_unpacked_inputs\u001b[0;34m(self, *args, **kwargs)\u001b[0m\n\u001b[1;32m    434\u001b[0m             \u001b[0mconfig\u001b[0m \u001b[0;34m=\u001b[0m \u001b[0mself\u001b[0m\u001b[0;34m.\u001b[0m\u001b[0mconfig\u001b[0m\u001b[0;34m\u001b[0m\u001b[0;34m\u001b[0m\u001b[0m\n\u001b[1;32m    435\u001b[0m \u001b[0;34m\u001b[0m\u001b[0m\n\u001b[0;32m--> 436\u001b[0;31m         \u001b[0munpacked_inputs\u001b[0m \u001b[0;34m=\u001b[0m \u001b[0minput_processing\u001b[0m\u001b[0;34m(\u001b[0m\u001b[0mfunc\u001b[0m\u001b[0;34m,\u001b[0m \u001b[0mconfig\u001b[0m\u001b[0;34m,\u001b[0m \u001b[0;34m**\u001b[0m\u001b[0mfn_args_and_kwargs\u001b[0m\u001b[0;34m)\u001b[0m\u001b[0;34m\u001b[0m\u001b[0;34m\u001b[0m\u001b[0m\n\u001b[0m\u001b[1;32m    437\u001b[0m         \u001b[0;32mreturn\u001b[0m \u001b[0mfunc\u001b[0m\u001b[0;34m(\u001b[0m\u001b[0mself\u001b[0m\u001b[0;34m,\u001b[0m \u001b[0;34m**\u001b[0m\u001b[0munpacked_inputs\u001b[0m\u001b[0;34m)\u001b[0m\u001b[0;34m\u001b[0m\u001b[0;34m\u001b[0m\u001b[0m\n\u001b[1;32m    438\u001b[0m \u001b[0;34m\u001b[0m\u001b[0m\n",
            "\u001b[0;32m/usr/local/lib/python3.11/dist-packages/transformers/modeling_tf_utils.py\u001b[0m in \u001b[0;36minput_processing\u001b[0;34m(func, config, **kwargs)\u001b[0m\n\u001b[1;32m    511\u001b[0m             \u001b[0moutput\u001b[0m\u001b[0;34m[\u001b[0m\u001b[0mk\u001b[0m\u001b[0;34m]\u001b[0m \u001b[0;34m=\u001b[0m \u001b[0mv\u001b[0m\u001b[0;34m\u001b[0m\u001b[0;34m\u001b[0m\u001b[0m\n\u001b[1;32m    512\u001b[0m         \u001b[0;32melse\u001b[0m\u001b[0;34m:\u001b[0m\u001b[0;34m\u001b[0m\u001b[0;34m\u001b[0m\u001b[0m\n\u001b[0;32m--> 513\u001b[0;31m             \u001b[0;32mraise\u001b[0m \u001b[0mValueError\u001b[0m\u001b[0;34m(\u001b[0m\u001b[0;34mf\"Data of type {type(v)} is not allowed only {allowed_types} is accepted for {k}.\"\u001b[0m\u001b[0;34m)\u001b[0m\u001b[0;34m\u001b[0m\u001b[0;34m\u001b[0m\u001b[0m\n\u001b[0m\u001b[1;32m    514\u001b[0m \u001b[0;34m\u001b[0m\u001b[0m\n\u001b[1;32m    515\u001b[0m     \u001b[0;32mif\u001b[0m \u001b[0misinstance\u001b[0m\u001b[0;34m(\u001b[0m\u001b[0mmain_input\u001b[0m\u001b[0;34m,\u001b[0m \u001b[0;34m(\u001b[0m\u001b[0mtuple\u001b[0m\u001b[0;34m,\u001b[0m \u001b[0mlist\u001b[0m\u001b[0;34m)\u001b[0m\u001b[0;34m)\u001b[0m\u001b[0;34m:\u001b[0m\u001b[0;34m\u001b[0m\u001b[0;34m\u001b[0m\u001b[0m\n",
            "\u001b[0;31mValueError\u001b[0m: Exception encountered when calling layer 'tf_bert_model' (type TFBertModel).\n\nData of type <class 'keras.src.backend.common.keras_tensor.KerasTensor'> is not allowed only (<class 'tensorflow.python.framework.tensor.Tensor'>, <class 'bool'>, <class 'int'>, <class 'transformers.utils.generic.ModelOutput'>, <class 'tuple'>, <class 'list'>, <class 'dict'>, <class 'numpy.ndarray'>) is accepted for attention_mask.\n\nCall arguments received by layer 'tf_bert_model' (type TFBertModel):\n  • input_ids=<KerasTensor shape=(None, 64), dtype=int32, sparse=False, name=input_ids>\n  • attention_mask=<KerasTensor shape=(None, 64), dtype=int32, sparse=False, name=attention_mask>\n  • token_type_ids=None\n  • position_ids=None\n  • head_mask=None\n  • inputs_embeds=None\n  • encoder_hidden_states=None\n  • encoder_attention_mask=None\n  • past_key_values=None\n  • use_cache=None\n  • output_attentions=None\n  • output_hidden_states=None\n  • return_dict=False\n  • training=False"
          ]
        }
      ]
    },
    {
      "cell_type": "code",
      "source": [],
      "metadata": {
        "id": "bFeGPM-jnInG"
      },
      "execution_count": null,
      "outputs": []
    }
  ]
}